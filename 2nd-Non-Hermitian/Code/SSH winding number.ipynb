{
 "cells": [
  {
   "cell_type": "code",
   "execution_count": 26,
   "metadata": {},
   "outputs": [
    {
     "data": {
      "text/plain": [
       "main (generic function with 1 method)"
      ]
     },
     "execution_count": 26,
     "metadata": {},
     "output_type": "execute_result"
    }
   ],
   "source": [
    "using LinearAlgebra,PyPlot\n",
    "# =============================================\n",
    "function matset(k::Float64)::Matrix{ComplexF64}\n",
    "    v::Float64 = 0.6\n",
    "    w::Float64 = 1\n",
    "    matrix = zeros(ComplexF64,2,2)\n",
    "    matrix[1,2] = v + w*exp(-1im*k)\n",
    "    matrix[2,1] = v + w*exp(1im*k)\n",
    "    return matrix\n",
    "end\n",
    "# ===============================================\n",
    "function main()\n",
    "    dk1::Float64 = 1e-9\n",
    "    dk2::Float64 = 1e-5\n",
    "    wind::ComplexF64 = 0.0\n",
    "    for k in -pi:dk2:pi\n",
    "        h0 = matset(k)\n",
    "        log0 = log(h0[1,2])\n",
    "        \n",
    "        hdk = matset(k + dk1)\n",
    "        logk = log(hdk[1,2])\n",
    "        \n",
    "        wind = wind + (logk - log0)/dk1*dk2\n",
    "    end\n",
    "    return round(real(wind/(2*pi*1im)))\n",
    "end"
   ]
  },
  {
   "cell_type": "code",
   "execution_count": 22,
   "metadata": {},
   "outputs": [
    {
     "name": "stdout",
     "output_type": "stream",
     "text": [
      "  0.156378 seconds (1.26 M allocations: 172.573 MiB, 7.20% gc time)\n"
     ]
    },
    {
     "data": {
      "text/plain": [
       "-1.0"
      ]
     },
     "execution_count": 22,
     "metadata": {},
     "output_type": "execute_result"
    }
   ],
   "source": [
    "@time main()"
   ]
  },
  {
   "cell_type": "markdown",
   "metadata": {},
   "source": [
    "# Non-Hermitian"
   ]
  },
  {
   "cell_type": "code",
   "execution_count": 32,
   "metadata": {},
   "outputs": [
    {
     "data": {
      "text/plain": [
       "main (generic function with 1 method)"
      ]
     },
     "execution_count": 32,
     "metadata": {},
     "output_type": "execute_result"
    }
   ],
   "source": [
    "using LinearAlgebra,PyPlot\n",
    "# =============================================\n",
    "function matset(k::Float64,t1::Float64)::Matrix{ComplexF64}\n",
    "    t2::Float64 = 1.0\n",
    "    gam::Float64 = 4/3\n",
    "    matrix = zeros(ComplexF64,2,2)\n",
    "    matrix[1,2] = t1 + t2*cos(k) - 1im*(t2*sin(k) + 1im*gam/2)\n",
    "    matrix[2,1] = t1 + t2*cos(k) + 1im*(t2*sin(k) + 1im*gam/2)\n",
    "    return matrix\n",
    "end\n",
    "# ===============================================\n",
    "function winding(t1::Float64)::Float64\n",
    "    dk1::Float64 = 1e-9\n",
    "    dk2::Float64 = 1e-7\n",
    "    gam::Float64 = 4/3\n",
    "    wind::ComplexF64 = 0.0\n",
    "    for k in -pi:dk2:pi\n",
    "        h0 = matset(k,t1)\n",
    "        log0 = log(h0[1,2])\n",
    "        \n",
    "        hdk = matset(k + dk1,t1)\n",
    "        logk = log(hdk[1,2] - gam/2)\n",
    "        \n",
    "        wind = wind + (logk - log0)/dk1*dk2\n",
    "    end\n",
    "    return round(real(wind/(2*pi*1im)))\n",
    "end\n",
    "# ===================================================\n",
    "function main()\n",
    "    dt::Float64 = 0.01\n",
    "    wNH = []\n",
    "    tlist = []\n",
    "    for t1 in -3:dt:3\n",
    "        append!(tlist,t1)\n",
    "        append!(wNH,winding(t1))\n",
    "    end\n",
    "    return tlist,wNH\n",
    "end"
   ]
  },
  {
   "cell_type": "code",
   "execution_count": 33,
   "metadata": {},
   "outputs": [
    {
     "name": "stdout",
     "output_type": "stream",
     "text": [
      " 20.450015 seconds (125.66 M allocations: 16.853 GiB, 9.51% gc time)\n"
     ]
    },
    {
     "data": {
      "text/plain": [
       "3.0"
      ]
     },
     "execution_count": 33,
     "metadata": {},
     "output_type": "execute_result"
    }
   ],
   "source": [
    "@time winding(0.9)"
   ]
  },
  {
   "cell_type": "code",
   "execution_count": 24,
   "metadata": {},
   "outputs": [
    {
     "data": {
      "text/plain": [
       "(Any[-3.0, -2.99, -2.98, -2.97, -2.96, -2.95, -2.94, -2.93, -2.92, -2.91  …  2.91, 2.92, 2.93, 2.94, 2.95, 2.96, 2.97, 2.98, 2.99, 3.0], Any[-0.0, -0.0, -0.0, -0.0, -0.0, -0.0, -0.0, -0.0, -0.0, -0.0  …  -0.0, -0.0, -0.0, -0.0, -0.0, -0.0, -0.0, -0.0, -0.0, -0.0])"
      ]
     },
     "execution_count": 24,
     "metadata": {},
     "output_type": "execute_result"
    }
   ],
   "source": [
    "a1,a2 = main()"
   ]
  },
  {
   "cell_type": "code",
   "execution_count": 28,
   "metadata": {},
   "outputs": [
    {
     "data": {
      "image/png": "[encoded data removed]",
      "text/plain": [
       "Figure(PyObject <Figure size 640x480 with 1 Axes>)"
      ]
     },
     "metadata": {},
     "output_type": "display_data"
    },
    {
     "data": {
      "text/plain": [
       "1-element Array{PyCall.PyObject,1}:\n",
       " PyObject <matplotlib.lines.Line2D object at 0x0000000000F51B48>"
      ]
     },
     "execution_count": 28,
     "metadata": {},
     "output_type": "execute_result"
    }
   ],
   "source": [
    "plot(a1,a2)"
   ]
  },
  {
   "cell_type": "code",
   "execution_count": null,
   "metadata": {},
   "outputs": [],
   "source": []
  }
 ],
 "metadata": {
  "kernelspec": {
   "display_name": "Julia 1.4.1",
   "language": "julia",
   "name": "julia-1.4"
  },
  "language_info": {
   "file_extension": ".jl",
   "mimetype": "application/julia",
   "name": "julia",
   "version": "1.4.1"
  }
 },
 "nbformat": 4,
 "nbformat_minor": 4
}
